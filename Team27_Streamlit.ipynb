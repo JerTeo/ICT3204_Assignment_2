{
  "cells": [
    {
      "cell_type": "markdown",
      "metadata": {
        "id": "VAryZX6e2WF0"
      },
      "source": [
        "Install dependancies and add local libraries"
      ]
    },
    {
      "cell_type": "code",
      "execution_count": null,
      "metadata": {
        "id": "ziriPq9PmS7m"
      },
      "outputs": [],
      "source": [
        "!pip install -q streamlit"
      ]
    },
    {
      "cell_type": "markdown",
      "metadata": {
        "id": "JBtp_uZz8e9X"
      },
      "source": [
        "Importing the streamlit application from Team 27's GitHub."
      ]
    },
    {
      "cell_type": "code",
      "execution_count": null,
      "metadata": {
        "id": "CBSeB4pABgeo"
      },
      "outputs": [],
      "source": [
        "!wget -O assignment2.py https://raw.githubusercontent.com/JerTeo/ICT3204_Assignment_2/wl/assignment2.py?token=ALMQ2DC7UOO7IE7VBYCCTOTBUTUYQ"
      ]
    },
    {
      "cell_type": "markdown",
      "metadata": {
        "id": "fl1IL96P2a8n"
      },
      "source": [
        "Run the streamlit application with localtunnel"
      ]
    },
    {
      "cell_type": "code",
      "execution_count": null,
      "metadata": {
        "id": "9lwjDXQs6RZX"
      },
      "outputs": [],
      "source": [
        "!streamlit run assignment2.py & npx localtunnel --port 8501"
      ]
    }
  ],
  "metadata": {
    "accelerator": "GPU",
    "colab": {
      "collapsed_sections": [],
      "name": "Team27_Streamlit.ipynb",
      "provenance": []
    },
    "kernelspec": {
      "display_name": "Python 3",
      "name": "python3"
    }
  },
  "nbformat": 4,
  "nbformat_minor": 0
}
